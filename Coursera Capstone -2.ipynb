{
    "cells": [
        {
            "cell_type": "markdown",
            "metadata": {
                "collapsed": true
            },
            "source": "This is part of Coursera Capstone Project for Data Science. This is Assignment 2"
        },
        {
            "cell_type": "code",
            "execution_count": 5,
            "metadata": {},
            "outputs": [],
            "source": "# Import all the libraries \nimport pandas as pd\nimport numpy as np\nfrom bs4 import BeautifulSoup \nimport requests"
        },
        {
            "cell_type": "code",
            "execution_count": 7,
            "metadata": {},
            "outputs": [
                {
                    "data": {
                        "text/plain": "200"
                    },
                    "execution_count": 7,
                    "metadata": {},
                    "output_type": "execute_result"
                }
            ],
            "source": "# Read Wiki Page\nwikiPage = requests.get(\"https://en.wikipedia.org/wiki/List_of_postal_codes_of_Canada:_M\")\nwikiPage.status_code"
        },
        {
            "cell_type": "code",
            "execution_count": 14,
            "metadata": {},
            "outputs": [],
            "source": "#Load the page using BeautifulSoup\nsoup = BeautifulSoup(wikiPage.content, 'html.parser')\n#soup"
        },
        {
            "cell_type": "code",
            "execution_count": 128,
            "metadata": {},
            "outputs": [],
            "source": "# load the table with zipcodes\nziptext = soup.find_all(class_=\"wikitable sortable\")\n#print(ziptext[0].prettify())"
        },
        {
            "cell_type": "code",
            "execution_count": 129,
            "metadata": {},
            "outputs": [],
            "source": "# get all table cells\ntableData = ziptext[0].find_all(\"td\")\n#print(len(tableData))"
        },
        {
            "cell_type": "code",
            "execution_count": 127,
            "metadata": {},
            "outputs": [
                {
                    "data": {
                        "text/html": "<div>\n<style scoped>\n    .dataframe tbody tr th:only-of-type {\n        vertical-align: middle;\n    }\n\n    .dataframe tbody tr th {\n        vertical-align: top;\n    }\n\n    .dataframe thead th {\n        text-align: right;\n    }\n</style>\n<table border=\"1\" class=\"dataframe\">\n  <thead>\n    <tr style=\"text-align: right;\">\n      <th></th>\n      <th>PostalCode</th>\n      <th>Borough</th>\n      <th>Neighborhood</th>\n    </tr>\n  </thead>\n  <tbody>\n    <tr>\n      <th>0</th>\n      <td>M3A</td>\n      <td>North York</td>\n      <td>Parkwoods</td>\n    </tr>\n    <tr>\n      <th>1</th>\n      <td>M3A</td>\n      <td>North York</td>\n      <td>Parkwoods</td>\n    </tr>\n    <tr>\n      <th>2</th>\n      <td>M4A</td>\n      <td>North York</td>\n      <td>Victoria Village</td>\n    </tr>\n    <tr>\n      <th>3</th>\n      <td>M5A</td>\n      <td>Downtown Toronto</td>\n      <td>Harbourfront</td>\n    </tr>\n    <tr>\n      <th>4</th>\n      <td>M6A</td>\n      <td>North York</td>\n      <td>Lawrence Heights,Lawrence Manor</td>\n    </tr>\n    <tr>\n      <th>5</th>\n      <td>M7A</td>\n      <td>Downtown Toronto</td>\n      <td>Queen's Park</td>\n    </tr>\n    <tr>\n      <th>6</th>\n      <td>M9A</td>\n      <td>Queen's Park</td>\n      <td>Not assigned</td>\n    </tr>\n    <tr>\n      <th>7</th>\n      <td>M1B</td>\n      <td>Scarborough</td>\n      <td>Rouge,Malvern</td>\n    </tr>\n    <tr>\n      <th>8</th>\n      <td>M3B</td>\n      <td>North York</td>\n      <td>Don Mills North</td>\n    </tr>\n    <tr>\n      <th>9</th>\n      <td>M4B</td>\n      <td>East York</td>\n      <td>Woodbine Gardens,Parkview Hill</td>\n    </tr>\n    <tr>\n      <th>10</th>\n      <td>M5B</td>\n      <td>Downtown Toronto</td>\n      <td>Ryerson,Garden District</td>\n    </tr>\n    <tr>\n      <th>11</th>\n      <td>M6B</td>\n      <td>North York</td>\n      <td>Glencairn</td>\n    </tr>\n    <tr>\n      <th>12</th>\n      <td>M9B</td>\n      <td>Etobicoke</td>\n      <td>Cloverdale,Islington,Martin Grove,Princess Gar...</td>\n    </tr>\n    <tr>\n      <th>13</th>\n      <td>M1C</td>\n      <td>Scarborough</td>\n      <td>Highland Creek,Rouge Hill,Port Union</td>\n    </tr>\n    <tr>\n      <th>14</th>\n      <td>M3C</td>\n      <td>North York</td>\n      <td>Flemingdon Park,Don Mills South</td>\n    </tr>\n    <tr>\n      <th>15</th>\n      <td>M4C</td>\n      <td>East York</td>\n      <td>Woodbine Heights</td>\n    </tr>\n    <tr>\n      <th>16</th>\n      <td>M5C</td>\n      <td>Downtown Toronto</td>\n      <td>St. James Town</td>\n    </tr>\n    <tr>\n      <th>17</th>\n      <td>M6C</td>\n      <td>York</td>\n      <td>Humewood-Cedarvale</td>\n    </tr>\n    <tr>\n      <th>18</th>\n      <td>M9C</td>\n      <td>Etobicoke</td>\n      <td>Bloordale Gardens,Eringate,Markland Wood,Old B...</td>\n    </tr>\n    <tr>\n      <th>19</th>\n      <td>M1E</td>\n      <td>Scarborough</td>\n      <td>Guildwood,Morningside,West Hill</td>\n    </tr>\n    <tr>\n      <th>20</th>\n      <td>M4E</td>\n      <td>East Toronto</td>\n      <td>The Beaches</td>\n    </tr>\n    <tr>\n      <th>21</th>\n      <td>M5E</td>\n      <td>Downtown Toronto</td>\n      <td>Berczy Park</td>\n    </tr>\n    <tr>\n      <th>22</th>\n      <td>M6E</td>\n      <td>York</td>\n      <td>Caledonia-Fairbanks</td>\n    </tr>\n    <tr>\n      <th>23</th>\n      <td>M1G</td>\n      <td>Scarborough</td>\n      <td>Woburn</td>\n    </tr>\n    <tr>\n      <th>24</th>\n      <td>M4G</td>\n      <td>East York</td>\n      <td>Leaside</td>\n    </tr>\n    <tr>\n      <th>25</th>\n      <td>M5G</td>\n      <td>Downtown Toronto</td>\n      <td>Central Bay Street</td>\n    </tr>\n    <tr>\n      <th>26</th>\n      <td>M6G</td>\n      <td>Downtown Toronto</td>\n      <td>Christie</td>\n    </tr>\n    <tr>\n      <th>27</th>\n      <td>M1H</td>\n      <td>Scarborough</td>\n      <td>Cedarbrae</td>\n    </tr>\n    <tr>\n      <th>28</th>\n      <td>M2H</td>\n      <td>North York</td>\n      <td>Hillcrest Village</td>\n    </tr>\n    <tr>\n      <th>29</th>\n      <td>M3H</td>\n      <td>North York</td>\n      <td>Bathurst Manor,Downsview North,Wilson Heights</td>\n    </tr>\n    <tr>\n      <th>...</th>\n      <td>...</td>\n      <td>...</td>\n      <td>...</td>\n    </tr>\n    <tr>\n      <th>74</th>\n      <td>M4R</td>\n      <td>Central Toronto</td>\n      <td>North Toronto West</td>\n    </tr>\n    <tr>\n      <th>75</th>\n      <td>M5R</td>\n      <td>Central Toronto</td>\n      <td>The Annex,North Midtown,Yorkville</td>\n    </tr>\n    <tr>\n      <th>76</th>\n      <td>M6R</td>\n      <td>West Toronto</td>\n      <td>Parkdale,Roncesvalles</td>\n    </tr>\n    <tr>\n      <th>77</th>\n      <td>M7R</td>\n      <td>Mississauga</td>\n      <td>Canada Post Gateway Processing Centre</td>\n    </tr>\n    <tr>\n      <th>78</th>\n      <td>M9R</td>\n      <td>Etobicoke</td>\n      <td>Kingsview Village,Martin Grove Gardens,Richvie...</td>\n    </tr>\n    <tr>\n      <th>79</th>\n      <td>M1S</td>\n      <td>Scarborough</td>\n      <td>Agincourt</td>\n    </tr>\n    <tr>\n      <th>80</th>\n      <td>M4S</td>\n      <td>Central Toronto</td>\n      <td>Davisville</td>\n    </tr>\n    <tr>\n      <th>81</th>\n      <td>M5S</td>\n      <td>Downtown Toronto</td>\n      <td>Harbord,University of Toronto</td>\n    </tr>\n    <tr>\n      <th>82</th>\n      <td>M6S</td>\n      <td>West Toronto</td>\n      <td>Runnymede,Swansea</td>\n    </tr>\n    <tr>\n      <th>83</th>\n      <td>M1T</td>\n      <td>Scarborough</td>\n      <td>Clarks Corners,Sullivan,Tam O'Shanter</td>\n    </tr>\n    <tr>\n      <th>84</th>\n      <td>M4T</td>\n      <td>Central Toronto</td>\n      <td>Moore Park,Summerhill East</td>\n    </tr>\n    <tr>\n      <th>85</th>\n      <td>M5T</td>\n      <td>Downtown Toronto</td>\n      <td>Chinatown,Grange Park,Kensington Market</td>\n    </tr>\n    <tr>\n      <th>86</th>\n      <td>M1V</td>\n      <td>Scarborough</td>\n      <td>Agincourt North,L'Amoreaux East,Milliken,Steel...</td>\n    </tr>\n    <tr>\n      <th>87</th>\n      <td>M4V</td>\n      <td>Central Toronto</td>\n      <td>Deer Park,Forest Hill SE,Rathnelly,South Hill,...</td>\n    </tr>\n    <tr>\n      <th>88</th>\n      <td>M5V</td>\n      <td>Downtown Toronto</td>\n      <td>CN Tower,Bathurst Quay,Island airport,Harbourf...</td>\n    </tr>\n    <tr>\n      <th>89</th>\n      <td>M8V</td>\n      <td>Etobicoke</td>\n      <td>Humber Bay Shores,Mimico South,New Toronto</td>\n    </tr>\n    <tr>\n      <th>90</th>\n      <td>M9V</td>\n      <td>Etobicoke</td>\n      <td>Albion Gardens,Beaumond Heights,Humbergate,Jam...</td>\n    </tr>\n    <tr>\n      <th>91</th>\n      <td>M1W</td>\n      <td>Scarborough</td>\n      <td>L'Amoreaux West</td>\n    </tr>\n    <tr>\n      <th>92</th>\n      <td>M4W</td>\n      <td>Downtown Toronto</td>\n      <td>Rosedale</td>\n    </tr>\n    <tr>\n      <th>93</th>\n      <td>M5W</td>\n      <td>Downtown Toronto</td>\n      <td>Stn A PO Boxes 25 The Esplanade</td>\n    </tr>\n    <tr>\n      <th>94</th>\n      <td>M8W</td>\n      <td>Etobicoke</td>\n      <td>Alderwood,Long Branch</td>\n    </tr>\n    <tr>\n      <th>95</th>\n      <td>M9W</td>\n      <td>Etobicoke</td>\n      <td>Northwest</td>\n    </tr>\n    <tr>\n      <th>96</th>\n      <td>M1X</td>\n      <td>Scarborough</td>\n      <td>Upper Rouge</td>\n    </tr>\n    <tr>\n      <th>97</th>\n      <td>M4X</td>\n      <td>Downtown Toronto</td>\n      <td>Cabbagetown,St. James Town</td>\n    </tr>\n    <tr>\n      <th>98</th>\n      <td>M5X</td>\n      <td>Downtown Toronto</td>\n      <td>First Canadian Place,Underground city</td>\n    </tr>\n    <tr>\n      <th>99</th>\n      <td>M8X</td>\n      <td>Etobicoke</td>\n      <td>The Kingsway,Montgomery Road,Old Mill North</td>\n    </tr>\n    <tr>\n      <th>100</th>\n      <td>M4Y</td>\n      <td>Downtown Toronto</td>\n      <td>Church and Wellesley</td>\n    </tr>\n    <tr>\n      <th>101</th>\n      <td>M7Y</td>\n      <td>East Toronto</td>\n      <td>Business Reply Mail Processing Centre 969 Eastern</td>\n    </tr>\n    <tr>\n      <th>102</th>\n      <td>M8Y</td>\n      <td>Etobicoke</td>\n      <td>Humber Bay,King's Mill Park,Kingsway Park Sout...</td>\n    </tr>\n    <tr>\n      <th>103</th>\n      <td>M8Z</td>\n      <td>Etobicoke</td>\n      <td>Kingsway Park South West,Mimico NW,The Queensw...</td>\n    </tr>\n  </tbody>\n</table>\n<p>104 rows \u00d7 3 columns</p>\n</div>",
                        "text/plain": "    PostalCode           Borough  \\\n0          M3A        North York   \n1          M3A        North York   \n2          M4A        North York   \n3          M5A  Downtown Toronto   \n4          M6A        North York   \n5          M7A  Downtown Toronto   \n6          M9A      Queen's Park   \n7          M1B       Scarborough   \n8          M3B        North York   \n9          M4B         East York   \n10         M5B  Downtown Toronto   \n11         M6B        North York   \n12         M9B         Etobicoke   \n13         M1C       Scarborough   \n14         M3C        North York   \n15         M4C         East York   \n16         M5C  Downtown Toronto   \n17         M6C              York   \n18         M9C         Etobicoke   \n19         M1E       Scarborough   \n20         M4E      East Toronto   \n21         M5E  Downtown Toronto   \n22         M6E              York   \n23         M1G       Scarborough   \n24         M4G         East York   \n25         M5G  Downtown Toronto   \n26         M6G  Downtown Toronto   \n27         M1H       Scarborough   \n28         M2H        North York   \n29         M3H        North York   \n..         ...               ...   \n74         M4R   Central Toronto   \n75         M5R   Central Toronto   \n76         M6R      West Toronto   \n77         M7R       Mississauga   \n78         M9R         Etobicoke   \n79         M1S       Scarborough   \n80         M4S   Central Toronto   \n81         M5S  Downtown Toronto   \n82         M6S      West Toronto   \n83         M1T       Scarborough   \n84         M4T   Central Toronto   \n85         M5T  Downtown Toronto   \n86         M1V       Scarborough   \n87         M4V   Central Toronto   \n88         M5V  Downtown Toronto   \n89         M8V         Etobicoke   \n90         M9V         Etobicoke   \n91         M1W       Scarborough   \n92         M4W  Downtown Toronto   \n93         M5W  Downtown Toronto   \n94         M8W         Etobicoke   \n95         M9W         Etobicoke   \n96         M1X       Scarborough   \n97         M4X  Downtown Toronto   \n98         M5X  Downtown Toronto   \n99         M8X         Etobicoke   \n100        M4Y  Downtown Toronto   \n101        M7Y      East Toronto   \n102        M8Y         Etobicoke   \n103        M8Z         Etobicoke   \n\n                                          Neighborhood  \n0                                            Parkwoods  \n1                                            Parkwoods  \n2                                     Victoria Village  \n3                                         Harbourfront  \n4                      Lawrence Heights,Lawrence Manor  \n5                                         Queen's Park  \n6                                         Not assigned  \n7                                        Rouge,Malvern  \n8                                      Don Mills North  \n9                       Woodbine Gardens,Parkview Hill  \n10                             Ryerson,Garden District  \n11                                           Glencairn  \n12   Cloverdale,Islington,Martin Grove,Princess Gar...  \n13                Highland Creek,Rouge Hill,Port Union  \n14                     Flemingdon Park,Don Mills South  \n15                                    Woodbine Heights  \n16                                      St. James Town  \n17                                  Humewood-Cedarvale  \n18   Bloordale Gardens,Eringate,Markland Wood,Old B...  \n19                     Guildwood,Morningside,West Hill  \n20                                         The Beaches  \n21                                         Berczy Park  \n22                                 Caledonia-Fairbanks  \n23                                              Woburn  \n24                                             Leaside  \n25                                  Central Bay Street  \n26                                            Christie  \n27                                           Cedarbrae  \n28                                   Hillcrest Village  \n29       Bathurst Manor,Downsview North,Wilson Heights  \n..                                                 ...  \n74                                  North Toronto West  \n75                   The Annex,North Midtown,Yorkville  \n76                               Parkdale,Roncesvalles  \n77               Canada Post Gateway Processing Centre  \n78   Kingsview Village,Martin Grove Gardens,Richvie...  \n79                                           Agincourt  \n80                                          Davisville  \n81                       Harbord,University of Toronto  \n82                                   Runnymede,Swansea  \n83               Clarks Corners,Sullivan,Tam O'Shanter  \n84                          Moore Park,Summerhill East  \n85             Chinatown,Grange Park,Kensington Market  \n86   Agincourt North,L'Amoreaux East,Milliken,Steel...  \n87   Deer Park,Forest Hill SE,Rathnelly,South Hill,...  \n88   CN Tower,Bathurst Quay,Island airport,Harbourf...  \n89          Humber Bay Shores,Mimico South,New Toronto  \n90   Albion Gardens,Beaumond Heights,Humbergate,Jam...  \n91                                     L'Amoreaux West  \n92                                            Rosedale  \n93                     Stn A PO Boxes 25 The Esplanade  \n94                               Alderwood,Long Branch  \n95                                           Northwest  \n96                                         Upper Rouge  \n97                          Cabbagetown,St. James Town  \n98               First Canadian Place,Underground city  \n99         The Kingsway,Montgomery Road,Old Mill North  \n100                               Church and Wellesley  \n101  Business Reply Mail Processing Centre 969 Eastern  \n102  Humber Bay,King's Mill Park,Kingsway Park Sout...  \n103  Kingsway Park South West,Mimico NW,The Queensw...  \n\n[104 rows x 3 columns]"
                    },
                    "execution_count": 127,
                    "metadata": {},
                    "output_type": "execute_result"
                }
            ],
            "source": "# load the table in a Pandas dataframe\ncolumnName=['PostalCode','Borough','Neighborhood']\nnotAssignedStr = 'Not assigned'\nzip_df = pd.DataFrame(columns=columnName)\nprevPostalCodeStr=\"\"\nprevboroughStr=\"\"\nprevneighStr=\"\"\nfor x in range(0,len(tableData),3):\n    #print(tableData[x+1].get_text()+\":\" + tableData[x+2].get_text() + \":\" + tableData[x+3].get_text() )\n    if ( tableData[x+1].get_text() != notAssignedStr ):      \n        postalCodeStr= tableData[x].get_text()\n        boroughStr=tableData[x+1].get_text()\n        neighStr=tableData[x+2].get_text().replace(\"\\n\",\"\")\n        #   if prev post code is same do not append , move to next row \n        if (prevPostalCodeStr == postalCodeStr):\n            \n            # Add Borough name if not same with the same postal code\n            if (prevboroughStr != boroughStr):\n                 prevboroughStr = prevboroughStr + \",\" + boroughStr\n            # Add Neighbour name if not same with the same postal code\n            if (prevneighStr != neighStr):\n                prevneighStr = prevneighStr + \",\" + neighStr\n        else:   \n            # first time\n            if (prevPostalCodeStr==\"\"):\n                prevboroughStr=tableData[x+1].get_text()\n                prevneighStr=tableData[x+2].get_text().replace(\"\\n\",\"\")\n                prevPostalCodeStr=postalCodeStr\n                \n            row_df=pd.DataFrame({'PostalCode':[prevPostalCodeStr],'Borough':[prevboroughStr],'Neighborhood': [prevneighStr]})\n            #print(\"Adding\",row_df)\n            zip_df = zip_df.append(row_df,ignore_index=True)\n            prevboroughStr=tableData[x+1].get_text()\n            prevneighStr=tableData[x+2].get_text().replace(\"\\n\",\"\")\n            prevPostalCodeStr=postalCodeStr\n\n    # Add last row even if postale code is same\n   \n    if ((prevPostalCodeStr == postalCodeStr) and (x  == len(tableData) -3)):\n        row_df=pd.DataFrame({'PostalCode':[prevPostalCodeStr],'Borough':[prevboroughStr],'Neighborhood': [prevneighStr]})\n        zip_df = zip_df.append(row_df,ignore_index=True)\n\nzip_df"
        },
        {
            "cell_type": "code",
            "execution_count": 130,
            "metadata": {},
            "outputs": [
                {
                    "name": "stdout",
                    "output_type": "stream",
                    "text": "(104, 3)\n"
                }
            ],
            "source": "print(zip_df.shape)"
        },
        {
            "cell_type": "code",
            "execution_count": null,
            "metadata": {},
            "outputs": [],
            "source": ""
        }
    ],
    "metadata": {
        "kernelspec": {
            "display_name": "Python 3.6",
            "language": "python",
            "name": "python3"
        },
        "language_info": {
            "codemirror_mode": {
                "name": "ipython",
                "version": 3
            },
            "file_extension": ".py",
            "mimetype": "text/x-python",
            "name": "python",
            "nbconvert_exporter": "python",
            "pygments_lexer": "ipython3",
            "version": "3.6.8"
        }
    },
    "nbformat": 4,
    "nbformat_minor": 1
}